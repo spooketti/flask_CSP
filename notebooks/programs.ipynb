{
 "cells": [
  {
   "cell_type": "markdown",
   "metadata": {},
   "source": [
    "# Input and Output with Lists and Dictionaries"
   ]
  },
  {
   "cell_type": "code",
   "execution_count": null,
   "metadata": {},
   "outputs": [],
   "source": [
    "import random\n",
    "\n",
    "name = str(input(\"What is your name?\"))\n",
    " \n",
    "listOfThings = [\"Apples\",\"Bananas\"]\n",
    "chosenObject = random.choice(listOfThings)\n",
    "likesObject = None\n",
    "yeOrNeDict = {\n",
    "    \"yes\":True,\n",
    "    \"no\":False\n",
    "}\n",
    "\n",
    "print(f\"Hello {name}, nice to meet you!\")\n",
    "def finale():\n",
    "    if(yeOrNeDict[likesObject]):\n",
    "        print(f\"I like {chosenObject} too, {name}\")\n",
    "    else:\n",
    "        print(f\"I don't really like {chosenObject} too, {name}\")\n",
    "\n",
    "def traceBackQuestion():\n",
    "    global likesObject\n",
    "    # This piece of the code checks for a valid responce\n",
    "    if(likesObject != \"yes\" and likesObject != \"no\"):\n",
    "        likesObject = str(input(f\"Do you like {chosenObject}, answer with 'Yes' or 'No' \")).lower()\n",
    "        traceBackQuestion()\n",
    "        return\n",
    "    finale()\n",
    "    \n",
    "\n",
    "\n",
    "likesObject = str(input(f\"Do you like {chosenObject}, answer with 'Yes' or 'No'\")).lower()\n",
    "traceBackQuestion()\n",
    "\n",
    " "
   ]
  },
  {
   "cell_type": "markdown",
   "metadata": {},
   "source": [
    "# Program explanation\n",
    "\n",
    "<img src=\"csp_design_flowchart.png\">"
   ]
  },
  {
   "cell_type": "markdown",
   "metadata": {},
   "source": [
    "# Iterations and Calculation Functions to Calculate Factorials"
   ]
  },
  {
   "cell_type": "markdown",
   "metadata": {},
   "source": []
  },
  {
   "cell_type": "code",
   "execution_count": null,
   "metadata": {},
   "outputs": [],
   "source": [
    "quota = 0\n",
    "def recursiveBlock():\n",
    "        global quota\n",
    "        # This try statement is importent because the input could be anything, and the try statement rejects that if it\n",
    "        try:\n",
    "            quota = int(input(\"Enter a number\"))\n",
    "        except:\n",
    "            recursiveBlock()\n",
    "recursiveBlock()\n",
    "def factorial():\n",
    "    global quota\n",
    "    sum = 1\n",
    "    for i in range(1,quota+1):\n",
    "        sum *= i\n",
    "    return sum\n",
    "print(factorial())"
   ]
  },
  {
   "cell_type": "markdown",
   "metadata": {},
   "source": [
    "## To Test objects"
   ]
  },
  {
   "cell_type": "code",
   "execution_count": null,
   "metadata": {},
   "outputs": [],
   "source": [
    "import random\n",
    "name = str(input(\"What is your name? \")) \n",
    "listOfThings = [\"Apples\",\"Bananas\"]\n",
    "chosenObject = random.choice(listOfThings)\n",
    "likesObject = None\n",
    "yeOrNeDict = {\n",
    "    \"yes\":True,\n",
    "    \"no\":False\n",
    "}\n",
    "sentResponces = [\"Yes\", \"yes\", \"No\", \"nO\", \"I love it\", \"No, not in 100 years\"]\n",
    "print(f\"{name}, for the option {chosenObject}: \" )\n",
    "\n",
    "# print(f\"Hello {name}, nice to meet you!\")\n",
    "def finale(likesObject):\n",
    "    print(f'\"{likesObject}\" was accepted')\n",
    "    \n",
    "    # This code converts the binary responce to \n",
    "    \n",
    "    if(yeOrNeDict[likesObject]):\n",
    "        # print(f\"I like {chosenObject} too, {name}\")\n",
    "        pass\n",
    "    else:\n",
    "        pass\n",
    "        # print(f\"I don't really like {chosenObject} too, {name}\")\n",
    "\n",
    "def traceBackQuestion(likesObject):\n",
    "    # print(type(likesObject))\n",
    "    # This piece of the code checks for a valid responce\n",
    "    if(likesObject != \"yes\" and likesObject != \"no\"):\n",
    "        print(f'\"{likesObject}\" was Rejected')\n",
    "        # traceBackQuestion(likesObject)\n",
    "        return\n",
    "    finale(likesObject)\n",
    "    \n",
    "def callObjects(likesObject):\n",
    "    # This code trys to see if their is a valid preset before calling\n",
    "    if(likesObject) == None:\n",
    "        likesObject = str(input(f\"Do you like {chosenObject}, answer with 'Yes' or 'No'\"))\n",
    "    traceBackQuestion(str(likesObject).lower())\n",
    "    \n",
    "for x in sentResponces:\n",
    "    callObjects(x)"
   ]
  }
 ],
 "metadata": {
  "kernelspec": {
   "display_name": "Python 3",
   "language": "python",
   "name": "python3"
  },
  "language_info": {
   "codemirror_mode": {
    "name": "ipython",
    "version": 3
   },
   "file_extension": ".py",
   "mimetype": "text/x-python",
   "name": "python",
   "nbconvert_exporter": "python",
   "pygments_lexer": "ipython3",
   "version": "3.10.12"
  },
  "orig_nbformat": 4
 },
 "nbformat": 4,
 "nbformat_minor": 2
}
