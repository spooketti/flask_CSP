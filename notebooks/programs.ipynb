{
 "cells": [
  {
   "cell_type": "markdown",
   "metadata": {},
   "source": [
    "# Input and Output with Lists and Dictionaries"
   ]
  },
  {
   "cell_type": "code",
   "execution_count": 1,
   "metadata": {},
   "outputs": [
    {
     "name": "stdout",
     "output_type": "stream",
     "text": [
      "Hello jon, nice to meet you!\n",
      "I like Bananas too, jon\n"
     ]
    }
   ],
   "source": [
    "import random\n",
    "\n",
    "name = str(input(\"What is your name?\"))\n",
    "\n",
    "listOfThings = [\"Apples\",\"Bananas\"]\n",
    "chosenObject = random.choice(listOfThings)\n",
    "likesObject = None\n",
    "yeOrNeDict = {\n",
    "    \"Yes\":True,\n",
    "    \"No\":False\n",
    "}\n",
    "\n",
    "print(f\"Hello {name}, nice to meet you!\")\n",
    "def finale():\n",
    "    if(yeOrNeDict[likesObject]):\n",
    "        print(f\"I like {chosenObject} too, {name}\")\n",
    "    else:\n",
    "        print(f\"I don't really like {chosenObject} too, {name}\")\n",
    "\n",
    "def traceBackQuestion():\n",
    "    global likesObject\n",
    "    #print(type(likesObject))\n",
    "    if(likesObject != \"Yes\" and likesObject != \"No\"):\n",
    "        likesObject = str(input(f\"Do you like {chosenObject}, answer with 'Yes' or 'No' \"))\n",
    "        traceBackQuestion()\n",
    "        return\n",
    "    finale()\n",
    "    \n",
    "\n",
    "\n",
    "likesObject = str(input(f\"Do you like {chosenObject}, answer with 'Yes' or 'No'\"))\n",
    "traceBackQuestion()\n",
    "\n",
    " "
   ]
  },
  {
   "cell_type": "markdown",
   "metadata": {},
   "source": [
    "# Iterations and Calculation Functions to Calculate Factorials"
   ]
  },
  {
   "cell_type": "markdown",
   "metadata": {},
   "source": []
  },
  {
   "cell_type": "code",
   "execution_count": 2,
   "metadata": {},
   "outputs": [
    {
     "name": "stdout",
     "output_type": "stream",
     "text": [
      "6\n"
     ]
    }
   ],
   "source": [
    "quota = 0\n",
    "def recursiveBlock():\n",
    "        global quota\n",
    "        try:\n",
    "            quota = int(input(\"Enter a number\"))\n",
    "        except:\n",
    "            recursiveBlock()\n",
    "recursiveBlock()\n",
    "def factorial():\n",
    "    global quota\n",
    "    sum = 1\n",
    "    for i in range(1,quota+1):\n",
    "        sum *= i\n",
    "    return sum\n",
    "print(factorial())"
   ]
  },
  {
   "cell_type": "markdown",
   "metadata": {},
   "source": [
    "# A program of purpose"
   ]
  },
  {
   "cell_type": "code",
   "execution_count": 8,
   "metadata": {},
   "outputs": [],
   "source": [
    "import requests\n",
    "from io import BytesIO\n",
    "from pathlib import Path\n",
    "from datetime import datetime\n",
    "import pytz\n",
    "from PIL import Image\n",
    "IMAGE_DIR = Path()\n",
    "API_URL = \"https://api.nasa.gov/planetary/apod?api_key=DEMO_KEY\"\n",
    "def fetch_image(date):\n",
    "    #print(\"Sending API request...\")\n",
    "    url_for_date = f\"{API_URL}&date={date}\"\n",
    "    response = requests.get(url_for_date)\n",
    "    response.raise_for_status\n",
    "    #print(\"API response received\")\n",
    "    data = response.json()\n",
    "    #print(\"Fetching image...\")\n",
    "    image_response = requests.get(data['url'])\n",
    "    image = Image.open(BytesIO(image_response.content))\n",
    "    #explanation = data['explanation']\n",
    "    title = data['title']\n",
    "    image_name = f\"{title}.{image.format}\"\n",
    "    image_name = f\"nasaSnapshot.{image.format}\"\n",
    "    image.save(IMAGE_DIR / image_name, image.format)\n",
    "\n",
    "    image.close()\n",
    "    #return image\n",
    "tz = pytz.timezone('America/New_York')\n",
    "ct = datetime.now(tz=tz).date()\n",
    "fetch_image(ct)"
   ]
  }
 ],
 "metadata": {
  "kernelspec": {
   "display_name": "Python 3",
   "language": "python",
   "name": "python3"
  },
  "language_info": {
   "codemirror_mode": {
    "name": "ipython",
    "version": 3
   },
   "file_extension": ".py",
   "mimetype": "text/x-python",
   "name": "python",
   "nbconvert_exporter": "python",
   "pygments_lexer": "ipython3",
   "version": "3.8.10"
  },
  "orig_nbformat": 4
 },
 "nbformat": 4,
 "nbformat_minor": 2
}
