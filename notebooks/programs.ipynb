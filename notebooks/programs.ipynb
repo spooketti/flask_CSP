{
 "cells": [
  {
   "cell_type": "markdown",
   "metadata": {},
   "source": [
    "# Input and Output with Lists and Dictionaries"
   ]
  },
  {
   "cell_type": "code",
   "execution_count": 9,
   "metadata": {},
   "outputs": [
    {
     "name": "stdout",
     "output_type": "stream",
     "text": [
      "Hello jon, nice to meet you!\n",
      "I like Apples too, jon\n"
     ]
    }
   ],
   "source": [
    "import random\n",
    "\n",
    "name = str(input(\"What is your name?\"))\n",
    "\n",
    "listOfThings = [\"Apples\",\"Bananas\"]\n",
    "chosenObject = random.choice(listOfThings)\n",
    "likesObject = None\n",
    "yeOrNeDict = {\n",
    "    \"Yes\":True,\n",
    "    \"No\":False\n",
    "}\n",
    "\n",
    "print(f\"Hello {name}, nice to meet you!\")\n",
    "def finale():\n",
    "    if(yeOrNeDict[likesObject]):\n",
    "        print(f\"I like {chosenObject} too, {name}\")\n",
    "    else:\n",
    "        print(f\"I don't really like {chosenObject} too, {name}\")\n",
    "\n",
    "def traceBackQuestion():\n",
    "    global likesObject\n",
    "    #print(type(likesObject))\n",
    "    if(likesObject != \"Yes\" and likesObject != \"No\"):\n",
    "        likesObject = str(input(f\"Do you like {chosenObject}, answer with 'Yes' or 'No' \"))\n",
    "        traceBackQuestion()\n",
    "        return\n",
    "    finale()\n",
    "    \n",
    "\n",
    "\n",
    "likesObject = str(input(f\"Do you like {chosenObject}, answer with 'Yes' or 'No'\"))\n",
    "traceBackQuestion()\n",
    "\n",
    " "
   ]
  },
  {
   "cell_type": "markdown",
   "metadata": {},
   "source": []
  }
 ],
 "metadata": {
  "kernelspec": {
   "display_name": "Python 3",
   "language": "python",
   "name": "python3"
  },
  "language_info": {
   "codemirror_mode": {
    "name": "ipython",
    "version": 3
   },
   "file_extension": ".py",
   "mimetype": "text/x-python",
   "name": "python",
   "nbconvert_exporter": "python",
   "pygments_lexer": "ipython3",
   "version": "3.8.10"
  },
  "orig_nbformat": 4
 },
 "nbformat": 4,
 "nbformat_minor": 2
}
