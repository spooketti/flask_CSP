{
 "cells": [
  {
   "cell_type": "markdown",
   "metadata": {},
   "source": [
    "# Input and Output with Lists and Dictionaries"
   ]
  },
  {
   "cell_type": "code",
   "execution_count": 5,
   "metadata": {},
   "outputs": [
    {
     "name": "stdout",
     "output_type": "stream",
     "text": [
      "Hello Sri, nice to meet you!\n",
      "I like Apples too, Sri\n"
     ]
    }
   ],
   "source": [
    "import random\n",
    "\n",
    "name = str(input(\"What is your name?\"))\n",
    "\n",
    "listOfThings = [\"Apples\",\"Bananas\"]\n",
    "chosenObject = random.choice(listOfThings)\n",
    "likesObject = None\n",
    "yeOrNeDict = {\n",
    "    \"Yes\":True,\n",
    "    \"No\":False\n",
    "}\n",
    "\n",
    "print(f\"Hello {name}, nice to meet you!\")\n",
    "def finale():\n",
    "    if(yeOrNeDict[likesObject]):\n",
    "        print(f\"I like {chosenObject} too, {name}\")\n",
    "    else:\n",
    "        print(f\"I don't really like {chosenObject} too, {name}\")\n",
    "\n",
    "def traceBackQuestion():\n",
    "    global likesObject\n",
    "    #print(type(likesObject))\n",
    "    if(likesObject != \"Yes\" and likesObject != \"No\"):\n",
    "        likesObject = str(input(f\"Do you like {chosenObject}, answer with 'Yes' or 'No' \"))\n",
    "        traceBackQuestion()\n",
    "        return\n",
    "    finale()\n",
    "    \n",
    "\n",
    "\n",
    "likesObject = str(input(f\"Do you like {chosenObject}, answer with 'Yes' or 'No'\"))\n",
    "traceBackQuestion()\n",
    "\n",
    " "
   ]
  },
  {
   "cell_type": "markdown",
   "metadata": {},
   "source": [
    "# Program explanation\n",
    "\n",
    "<img src=\"csp_design_flowchart.png\">"
   ]
  },
  {
   "cell_type": "markdown",
   "metadata": {},
   "source": [
    "# ChatGPT Explanation\n",
    "\n",
    "This code is a Python program that interacts with the user to ask their name and whether they like a randomly chosen object (either \"Apples\" or \"Bananas\"). It uses recursive functions to handle user input until a valid response is received. Let's break down the code step by step:\n",
    "\n",
    "Import the random module to generate random choices.\n",
    "\n",
    "Prompt the user to enter their name and store it in the variable name as a string.\n",
    "\n",
    "Create a list called listOfThings containing two strings: \"Apples\" and \"Bananas.\"\n",
    "\n",
    "Use random.choice(listOfThings) to randomly select one of the items from the list and store it in the variable chosenObject.\n",
    "\n",
    "Initialize a variable likesObject with the value None. This variable will later be used to store the user's response.\n",
    "\n",
    "Create a dictionary called yeOrNeDict with keys \"Yes\" and \"No\" mapped to True and False, respectively. This dictionary is used to interpret the user's response.\n",
    "\n",
    "Print a greeting message using the user's name.\n",
    "\n",
    "Define a function called finale():\n",
    "\n",
    "This function checks if likesObject is mapped to True in the yeOrNeDict dictionary. If it is, it prints a message indicating that the user and the program both like the chosen object. Otherwise, it prints a message indicating that the user and the program do not like the chosen object.\n",
    "Define a recursive function called traceBackQuestion():\n",
    "\n",
    "Inside this function, the likesObject variable is marked as global to ensure it can be modified within the function and accessed globally.\n",
    "The function checks if likesObject is neither \"Yes\" nor \"No.\" If it's not, it prompts the user to answer whether they like the chosen object using the \"Yes\" or \"No\" options and stores their response in likesObject.\n",
    "The function then calls itself recursively until a valid response (\"Yes\" or \"No\") is obtained.\n",
    "Once a valid response is received, the function calls finale() to provide the final response.\n",
    "Prompt the user to answer whether they like the randomly chosen object (stored in chosenObject) using the \"Yes\" or \"No\" options, and store their response in the likesObject variable.\n",
    "\n",
    "Call the traceBackQuestion() function to initiate the interaction with the user and handle their response.\n",
    "\n",
    "The code essentially asks the user whether they like a random object and continues to ask until a valid response is given. Then, it provides a final message based on the user's response. The recursion in the traceBackQuestion() function ensures that the program keeps asking until a valid response is obtained."
   ]
  },
  {
   "cell_type": "markdown",
   "metadata": {},
   "source": [
    "# Iterations and Calculation Functions to Calculate Factorials"
   ]
  },
  {
   "cell_type": "markdown",
   "metadata": {},
   "source": []
  },
  {
   "cell_type": "code",
   "execution_count": 15,
   "metadata": {},
   "outputs": [
    {
     "name": "stdout",
     "output_type": "stream",
     "text": [
      "6\n"
     ]
    }
   ],
   "source": [
    "quota = 0\n",
    "def recursiveBlock():\n",
    "        global quota\n",
    "        try:\n",
    "            quota = int(input(\"Enter a number\"))\n",
    "        except:\n",
    "            recursiveBlock()\n",
    "recursiveBlock()\n",
    "def factorial():\n",
    "    global quota\n",
    "    sum = 1\n",
    "    for i in range(1,quota+1):\n",
    "        sum *= i\n",
    "    return sum\n",
    "print(factorial())"
   ]
  }
 ],
 "metadata": {
  "kernelspec": {
   "display_name": "Python 3",
   "language": "python",
   "name": "python3"
  },
  "language_info": {
   "codemirror_mode": {
    "name": "ipython",
    "version": 3
   },
   "file_extension": ".py",
   "mimetype": "text/x-python",
   "name": "python",
   "nbconvert_exporter": "python",
   "pygments_lexer": "ipython3",
   "version": "3.8.10"
  },
  "orig_nbformat": 4
 },
 "nbformat": 4,
 "nbformat_minor": 2
}
